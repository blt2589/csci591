{
 "cells": [
  {
   "cell_type": "markdown",
   "id": "c2ae6d84-7794-4c88-b1df-7c900f8f4aa6",
   "metadata": {},
   "source": [
    "# Project 2 - WIP"
   ]
  },
  {
   "cell_type": "markdown",
   "id": "04ba3123-5aac-48ce-a220-0abedf69bcc5",
   "metadata": {},
   "source": [
    "Data:\n",
    "County Boundary Layer: https://www2.census.gov/geo/tiger/GENZ2023/shp/cb_2023_us_county_500k.zip\n",
    "Census Tracts Layer: https://www2.census.gov/geo/tiger/GENZ2023/shp/cb_2023_us_tract_500k.zip\n",
    "ACS (API): https://api.census.gov/data/{year}/acs/acs5   {year} is a parameter in the code. Makes code a little more extensible. 2023 is the latest So that is what is used."
   ]
  },
  {
   "cell_type": "code",
   "execution_count": null,
   "id": "e7233244-5d94-411c-8620-e6b118c0f9fe",
   "metadata": {},
   "outputs": [],
   "source": []
  },
  {
   "cell_type": "code",
   "execution_count": null,
   "id": "0cba220b-4d20-45c1-bc15-ff20bf4d06ee",
   "metadata": {},
   "outputs": [],
   "source": []
  }
 ],
 "metadata": {
  "kernelspec": {
   "display_name": "Python 3 (ipykernel)",
   "language": "python",
   "name": "python3"
  },
  "language_info": {
   "codemirror_mode": {
    "name": "ipython",
    "version": 3
   },
   "file_extension": ".py",
   "mimetype": "text/x-python",
   "name": "python",
   "nbconvert_exporter": "python",
   "pygments_lexer": "ipython3",
   "version": "3.9.7"
  }
 },
 "nbformat": 4,
 "nbformat_minor": 5
}
