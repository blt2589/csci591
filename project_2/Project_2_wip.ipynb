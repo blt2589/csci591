{
 "cells": [
  {
   "cell_type": "markdown",
   "id": "c2ae6d84-7794-4c88-b1df-7c900f8f4aa6",
   "metadata": {},
   "source": [
    "# Project 2 - WIP"
   ]
  },
  {
   "cell_type": "markdown",
   "id": "04ba3123-5aac-48ce-a220-0abedf69bcc5",
   "metadata": {},
   "source": [
    "Data:\n",
    "County Boundary Layer (EPSG: 4269): https://www2.census.gov/geo/tiger/GENZ2023/shp/cb_2023_us_county_500k.zip\n",
    "Census Tracts Layer (EPSG: 4269): https://www2.census.gov/geo/tiger/GENZ2023/shp/cb_2023_us_tract_500k.zip\n",
    "ACS (API): https://api.census.gov/data/{year}/acs/acs5   {year} is a parameter in the code. Makes code a little more extensible. 2023 is the latest So that is what is used."
   ]
  },
  {
   "cell_type": "markdown",
   "id": "213ec496-13d2-4f2b-bd5c-718784014e94",
   "metadata": {},
   "source": [
    "Missoula County FIPS: 30063"
   ]
  },
  {
   "cell_type": "markdown",
   "id": "8884efdd-f0b7-4f1e-8301-a27f5491e670",
   "metadata": {},
   "source": [
    "Total population shown in Table B01003, ref. https://censusreporter.org/tables/B01003/"
   ]
  }
 ],
 "metadata": {
  "kernelspec": {
   "display_name": "Python 3 (ipykernel)",
   "language": "python",
   "name": "python3"
  },
  "language_info": {
   "codemirror_mode": {
    "name": "ipython",
    "version": 3
   },
   "file_extension": ".py",
   "mimetype": "text/x-python",
   "name": "python",
   "nbconvert_exporter": "python",
   "pygments_lexer": "ipython3",
   "version": "3.9.7"
  }
 },
 "nbformat": 4,
 "nbformat_minor": 5
}
